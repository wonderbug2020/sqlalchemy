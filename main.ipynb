{
 "cells": [
  {
   "cell_type": "code",
   "execution_count": null,
   "metadata": {},
   "outputs": [],
   "source": [
    "#Import everything needed for matplotlib\n",
    "%matplotlib inline\n",
    "from matplotlib import style\n",
    "style.use('fivethirtyeight')\n",
    "import matplotlib.pyplot as plt"
   ]
  },
  {
   "cell_type": "code",
   "execution_count": null,
   "metadata": {},
   "outputs": [],
   "source": [
    "#Import of libraries to be used\n",
    "import numpy as np\n",
    "import pandas as pd\n",
    "import datetime as dt"
   ]
  },
  {
   "cell_type": "code",
   "execution_count": null,
   "metadata": {},
   "outputs": [],
   "source": [
    " # Python SQL toolkit and Object Relational Mapper\n",
    "import sqlalchemy\n",
    "from sqlalchemy.ext.automap import automap_base\n",
    "from sqlalchemy.orm import Session\n",
    "from sqlalchemy import create_engine, func"
   ]
  },
  {
   "cell_type": "code",
   "execution_count": null,
   "metadata": {},
   "outputs": [],
   "source": [
    "#Create the engine\n",
    "engine = create_engine(\"sqlite:///Resources/hawaii.sqlite\")"
   ]
  },
  {
   "cell_type": "code",
   "execution_count": null,
   "metadata": {},
   "outputs": [],
   "source": [
    "#Create the base and automap the classes\n",
    "Base = automap_base()\n",
    "Base.prepare(engine, reflect=True)\n",
    "Base.classes.keys()"
   ]
  },
  {
   "cell_type": "code",
   "execution_count": null,
   "metadata": {},
   "outputs": [],
   "source": [
    "#Now to assign the classes to \n",
    "Station = Base.classes.station\n",
    "Measurement = Base.classes.measurement"
   ]
  },
  {
   "cell_type": "code",
   "execution_count": null,
   "metadata": {},
   "outputs": [],
   "source": [
    "#Create a session\n",
    "session = Session(engine)"
   ]
  },
  {
   "cell_type": "code",
   "execution_count": null,
   "metadata": {},
   "outputs": [],
   "source": [
    "first_row_station = session.query(Station).first()\n",
    "first_row_station.__dict__"
   ]
  },
  {
   "cell_type": "code",
   "execution_count": null,
   "metadata": {},
   "outputs": [],
   "source": [
    "first_row_measurement = session.query(Measurement).first()\n",
    "first_row_measurement.__dict__"
   ]
  },
  {
   "cell_type": "code",
   "execution_count": null,
   "metadata": {},
   "outputs": [],
   "source": [
    "#The date is presented in a text format which is another wrinkle to work with\n",
    "#First we can use strftime and some functions to find the most recent date\n",
    "top_date = session.query(func.max(func.strftime(\"%Y-%m-%d\", Measurement.date)))\n",
    "\n",
    "#From this we can pull out out a a string of the date\n",
    "top_date_date = dt.datetime.strptime(top_date[0][0], \"%Y-%m-%d\")\n",
    "\n",
    "#Now I need a variable that is the date 1 year ago. I used weeks=52.2 since 52*7 /= 365\n",
    "year_ago = top_date_date - dt.timedelta(weeks=52.2)"
   ]
  },
  {
   "cell_type": "code",
   "execution_count": null,
   "metadata": {
    "scrolled": false
   },
   "outputs": [],
   "source": [
    "#Now To put my query into a variable\n",
    "qry = session.query(Measurement.date, Measurement.prcp).\\\n",
    "                        filter(Measurement.date >= year_ago)\n",
    "\n",
    "#Making a dataframe from the query\n",
    "measurement_df = pd.read_sql(qry.statement, session.bind)\n",
    "\n",
    "#Set the date to the index\n",
    "measurement2_df = measurement_df.set_index('date')\n",
    "\n",
    "#Finally to sort\n",
    "measurement3_df = measurement2_df.sort_index(ascending = True)\n",
    "\n",
    "measurement3_df.tail()"
   ]
  },
  {
   "cell_type": "code",
   "execution_count": null,
   "metadata": {},
   "outputs": [],
   "source": [
    "#Now to make a pretty little graph\n",
    "fig, ax = plt.subplots(figsize = (10, 7))\n",
    "measurement3_df.plot(ax = ax, x_compat = True,rot=90)\n",
    "ax.set_ylabel('Inches')"
   ]
  },
  {
   "cell_type": "code",
   "execution_count": null,
   "metadata": {},
   "outputs": [],
   "source": [
    "#Print out the statistics for the precipitation\n",
    "measurement3_df.describe()"
   ]
  },
  {
   "cell_type": "code",
   "execution_count": null,
   "metadata": {},
   "outputs": [],
   "source": [
    "first_row_station = session.query(Station).first()\n",
    "first_row_station.__dict__"
   ]
  },
  {
   "cell_type": "code",
   "execution_count": null,
   "metadata": {},
   "outputs": [],
   "source": [
    "#Query to count the total number of stations\n",
    "qry_station_count = session.query(Station.station).group_by(Station.station).count()\n",
    "qry_station_count\n",
    "                      "
   ]
  },
  {
   "cell_type": "code",
   "execution_count": null,
   "metadata": {},
   "outputs": [],
   "source": [
    "#Make a query to find the activity of each station reporting\n",
    "qry_station_active = session.query(Measurement.station, func.count(Measurement.station)).\\\n",
    "                        group_by(Measurement.station).\\\n",
    "                        order_by(func.count(Measurement.station).desc()).all()\n",
    "\n",
    "#Here is my list, there are many like it, but this one is mine\n",
    "print(qry_station_active)\n",
    "\n",
    "#The first entry is the most active since this is descending order\n",
    "most_active = qry_station_active[0][0]\n",
    "print(\"\\n\" + \"The most active station is \" + str(most_active))"
   ]
  },
  {
   "cell_type": "code",
   "execution_count": null,
   "metadata": {},
   "outputs": [],
   "source": [
    "temperature_readings = session.query(func.min(Measurement.tobs), func.max(Measurement.tobs), func.avg(Measurement.tobs)).\\\n",
    "                                     filter(Measurement.station == most_active).all()\n",
    "temperature_readings"
   ]
  },
  {
   "cell_type": "code",
   "execution_count": null,
   "metadata": {},
   "outputs": [],
   "source": [
    "qry_temp = session.query(Measurement.date, Measurement.tobs).\\\n",
    "                        filter(Measurement.date >= year_ago).\\\n",
    "                        filter(Measurement.station == most_active)\n",
    "\n",
    "#Making a dataframe from the query\n",
    "temperature_df = pd.read_sql(qry_temp.statement, session.bind)\n"
   ]
  },
  {
   "cell_type": "code",
   "execution_count": null,
   "metadata": {},
   "outputs": [],
   "source": [
    "#Now to make a pretty little graph\n",
    "fig, ax = plt.subplots(figsize = (10, 7))\n",
    "temperature_df.plot.hist(ax = ax, bins = 12)\n",
    "ax.set_ylabel('Frequency')\n",
    "ax.set_xlabel('Temperature')"
   ]
  },
  {
   "cell_type": "code",
   "execution_count": null,
   "metadata": {},
   "outputs": [],
   "source": []
  },
  {
   "cell_type": "code",
   "execution_count": null,
   "metadata": {},
   "outputs": [],
   "source": []
  }
 ],
 "metadata": {
  "kernelspec": {
   "display_name": "Python 3",
   "language": "python",
   "name": "python3"
  },
  "language_info": {
   "codemirror_mode": {
    "name": "ipython",
    "version": 3
   },
   "file_extension": ".py",
   "mimetype": "text/x-python",
   "name": "python",
   "nbconvert_exporter": "python",
   "pygments_lexer": "ipython3",
   "version": "3.7.3"
  }
 },
 "nbformat": 4,
 "nbformat_minor": 4
}
